{
 "cells": [
  {
   "cell_type": "code",
   "execution_count": null,
   "metadata": {},
   "outputs": [],
   "source": [
    "import os\n",
    "import string"
   ]
  },
  {
   "cell_type": "code",
   "execution_count": null,
   "metadata": {},
   "outputs": [],
   "source": [
    "# Load doc into memory\n",
    "def load_doc(filename):\n",
    "    \n",
    "    file = open(filename, 'r')\n",
    "    text = file.read()\n",
    "    \n",
    "    file.close()\n",
    "    \n",
    "    return text\n",
    " \n",
    "filename = 'Flickr8k_text/Flickr8k.token.txt'\n",
    "\n",
    "# Load descriptions\n",
    "doc = load_doc(filename)"
   ]
  },
  {
   "cell_type": "code",
   "execution_count": null,
   "metadata": {},
   "outputs": [],
   "source": [
    "# Extract descriptions for images\n",
    "def load_descriptions(doc):\n",
    "    \n",
    "    mapping = dict()\n",
    "\n",
    "    for line in doc.split('\\n'):\n",
    "        \n",
    "        # Split line by white space\n",
    "        tokens = line.split()\n",
    "        \n",
    "        if len(line) < 2:\n",
    "            continue\n",
    "            \n",
    "        # Take the first token as the image id, the rest as the description\n",
    "        image_id, image_desc = tokens[0], tokens[1:]\n",
    "        # Remove filename from image id\n",
    "        image_id = image_id.split('.')[0]\n",
    "        # Convert description tokens back to string\n",
    "        image_desc = ' '.join(image_desc)\n",
    "        # Create the list if needed\n",
    "        if image_id not in mapping:\n",
    "            mapping[image_id] = list()\n",
    "            \n",
    "        # Store description\n",
    "        mapping[image_id].append(image_desc)\n",
    "        \n",
    "    return mapping\n",
    " \n",
    "# Parse descriptions\n",
    "descriptions = load_descriptions(doc)\n",
    "print('Loaded: %d ' % len(descriptions))"
   ]
  },
  {
   "cell_type": "code",
   "execution_count": null,
   "metadata": {},
   "outputs": [],
   "source": [
    "def clean_descriptions(descriptions):\n",
    "    \n",
    "    # Translation table for removing punctuation\n",
    "    table = str.maketrans('', '', string.punctuation)\n",
    "    \n",
    "    for key, desc_list in descriptions.items():\n",
    "        for i in range(len(desc_list)):\n",
    "            desc = desc_list[i]\n",
    "            # Tokenize\n",
    "            desc = desc.split()\n",
    "            # 1) Convert to lower case\n",
    "            desc = [word.lower() for word in desc]\n",
    "            # 2) Remove punctuation from each token\n",
    "            desc = [w.translate(table) for w in desc]\n",
    "            # 3) Remove hanging 's' and 'a'\n",
    "            desc = [word for word in desc if len(word)>1]\n",
    "            # 4) Remove tokens with numbers in them\n",
    "            desc = [word for word in desc if word.isalpha()]\n",
    "            # Store as string\n",
    "            desc_list[i] =  ' '.join(desc)\n",
    "\n",
    "# Clean descriptions\n",
    "clean_descriptions(descriptions)"
   ]
  },
  {
   "cell_type": "code",
   "execution_count": null,
   "metadata": {},
   "outputs": [],
   "source": [
    "# Building the vocabulary of words from descriptions\n",
    "def to_vocabulary(descriptions):\n",
    "\n",
    "    all_desc = set()\n",
    "    \n",
    "    for key in descriptions.keys():\n",
    "        [all_desc.update(d.split()) for d in descriptions[key]]\n",
    "        \n",
    "    return all_desc\n",
    "\n",
    "# Summarize vocabulary\n",
    "vocabulary = to_vocabulary(descriptions)\n",
    "print('Vocabulary Size: %d' % len(vocabulary))"
   ]
  },
  {
   "cell_type": "code",
   "execution_count": null,
   "metadata": {},
   "outputs": [],
   "source": [
    "# Saving descriptions to file\n",
    "def save_descriptions(descriptions, filename):\n",
    "    \n",
    "    lines = list()\n",
    "    \n",
    "    for key, desc_list in descriptions.items():\n",
    "        for desc in desc_list:\n",
    "            lines.append(key + ' ' + desc)\n",
    "            \n",
    "    data = '\\n'.join(lines)\n",
    "    \n",
    "    file = open(filename, 'w')\n",
    "    file.write(data)\n",
    "    file.close()\n",
    "\n",
    "# Save descriptions\n",
    "save_descriptions(descriptions, 'descriptions.txt')"
   ]
  }
 ],
 "metadata": {
  "kernelspec": {
   "display_name": "Python 3",
   "language": "python",
   "name": "python3"
  },
  "language_info": {
   "codemirror_mode": {
    "name": "ipython",
    "version": 3
   },
   "file_extension": ".py",
   "mimetype": "text/x-python",
   "name": "python",
   "nbconvert_exporter": "python",
   "pygments_lexer": "ipython3",
   "version": "3.8.3"
  }
 },
 "nbformat": 4,
 "nbformat_minor": 4
}
