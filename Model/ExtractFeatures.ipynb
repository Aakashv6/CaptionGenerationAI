{
 "cells": [
  {
   "cell_type": "code",
   "execution_count": 2,
   "metadata": {},
   "outputs": [
    {
     "name": "stdout",
     "output_type": "stream",
     "text": [
      "tensorflow: 2.2.0\n"
     ]
    }
   ],
   "source": [
    "# tensorflow version\n",
    "import tensorflow\n",
    "print('tensorflow: %s' % tensorflow.__version__)"
   ]
  },
  {
   "cell_type": "code",
   "execution_count": null,
   "metadata": {},
   "outputs": [],
   "source": [
    "from os import listdir\n",
    "from pickle import dump\n",
    "\n",
    "from tensorflow.keras.applications.vgg16 import VGG16\n",
    "from tensorflow.keras.preprocessing.image import load_img\n",
    "from tensorflow.keras.preprocessing.image import img_to_array\n",
    "from tensorflow.keras.applications.vgg16 import preprocess_input\n",
    "from tensorflow.keras.models import Model\n",
    "\n",
    "# Extract features from each photo in the directory\n",
    "def extract_features(directory):\n",
    "    \n",
    "    # Loading VGG16 model\n",
    "    model = VGG16()\n",
    "    \n",
    "    # Re-structure the model\n",
    "    model = Model(inputs=model.inputs, outputs=model.layers[-2].output)\n",
    "    \n",
    "    # Model summary\n",
    "    print(model.summary())\n",
    "    \n",
    "    # Features extraction\n",
    "    features = dict()\n",
    "    \n",
    "    for name in listdir(directory):\n",
    "        \n",
    "        # Prepare the image for the VGG model\n",
    "        filename = directory + '/' + name\n",
    "        image = load_img(filename, target_size=(224, 224))\n",
    "        image = img_to_array(image)\n",
    "        image = image.reshape((1, image.shape[0], image.shape[1], image.shape[2]))\n",
    "        image = preprocess_input(image)\n",
    "        \n",
    "        # Get features\n",
    "        feature = model.predict(image, verbose=0)\n",
    "        image_id = name.split('.')[0]\n",
    "        \n",
    "        # Store feature\n",
    "        features[image_id] = feature\n",
    "        print('>%s' % name)\n",
    "        \n",
    "    return features\n",
    "\n",
    "# extract features from all images\n",
    "directory = 'Flickr8k_Dataset'\n",
    "features = extract_features(directory)\n",
    "print('Extracted Features: %d' % len(features))\n",
    "\n",
    "# save to file\n",
    "dump(features, open('features.pkl', 'wb'))"
   ]
  },
  {
   "cell_type": "code",
   "execution_count": null,
   "metadata": {},
   "outputs": [],
   "source": []
  }
 ],
 "metadata": {
  "kernelspec": {
   "display_name": "Python 3",
   "language": "python",
   "name": "python3"
  },
  "language_info": {
   "codemirror_mode": {
    "name": "ipython",
    "version": 3
   },
   "file_extension": ".py",
   "mimetype": "text/x-python",
   "name": "python",
   "nbconvert_exporter": "python",
   "pygments_lexer": "ipython3",
   "version": "3.8.3"
  }
 },
 "nbformat": 4,
 "nbformat_minor": 4
}
